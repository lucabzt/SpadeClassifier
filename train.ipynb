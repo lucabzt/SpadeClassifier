{
 "cells": [
  {
   "cell_type": "code",
   "id": "initial_id",
   "metadata": {
    "collapsed": true,
    "ExecuteTime": {
     "end_time": "2024-10-30T22:33:44.051Z",
     "start_time": "2024-10-30T22:33:44.047894Z"
    }
   },
   "source": [
    "import torch\n",
    "from dataset import PlayingCardDataset\n",
    "from torch.utils.data import DataLoader\n",
    "import SpadeClassifier\n",
    "from mapping import cards\n",
    "import matplotlib.pyplot as plt"
   ],
   "execution_count": 38,
   "outputs": []
  },
  {
   "metadata": {
    "ExecuteTime": {
     "end_time": "2024-10-30T22:33:44.400316Z",
     "start_time": "2024-10-30T22:33:44.396851Z"
    }
   },
   "cell_type": "code",
   "source": [
    "device = 'cuda:0' if torch.cuda.is_available() else 'cpu'\n",
    "BATCH_SIZE = 1"
   ],
   "id": "3d809475ee25a421",
   "execution_count": 39,
   "outputs": []
  },
  {
   "metadata": {
    "ExecuteTime": {
     "end_time": "2024-10-30T22:33:45.878900Z",
     "start_time": "2024-10-30T22:33:44.988487Z"
    }
   },
   "cell_type": "code",
   "source": [
    "# Load dataset and print sample batch\n",
    "dataset: PlayingCardDataset = torch.load(\"./playing_card_dataset.pt\")\n",
    "image, label = next(iter(dataset))\n",
    "plt.imshow(image.permute(1,2,0))\n",
    "print(cards[int(label.nonzero()+1)])"
   ],
   "id": "5d414658accf3818",
   "execution_count": 40,
   "outputs": []
  },
  {
   "metadata": {
    "ExecuteTime": {
     "end_time": "2024-10-30T22:33:46.105577Z",
     "start_time": "2024-10-30T22:33:46.101466Z"
    }
   },
   "cell_type": "code",
   "source": [
    "# Create Train/Test Split and data loaders\n",
    "train_set, test_set = torch.utils.data.random_split(dataset, [0.8, 0.2])\n",
    "train_load, test_load = DataLoader(train_set, batch_size=1, shuffle=True), DataLoader(test_set, batch_size=BATCH_SIZE, shuffle=True)"
   ],
   "id": "f80e1a537c3beec",
   "execution_count": 41,
   "outputs": []
  },
  {
   "metadata": {
    "ExecuteTime": {
     "end_time": "2024-10-30T22:35:07.646827Z",
     "start_time": "2024-10-30T22:35:07.642355Z"
    }
   },
   "cell_type": "code",
   "source": [
    "import importlib\n",
    "importlib.reload(SpadeClassifier)"
   ],
   "id": "a540580d2d416cba",
   "execution_count": 46,
   "outputs": []
  },
  {
   "metadata": {
    "ExecuteTime": {
     "end_time": "2024-10-30T22:39:12.269670Z",
     "start_time": "2024-10-30T22:39:12.188524Z"
    }
   },
   "cell_type": "code",
   "source": [
    "# Create model\n",
    "model = SpadeClassifier.SpadeClassifier(53).to(device)"
   ],
   "id": "b30360c096819085",
   "execution_count": 53,
   "outputs": []
  },
  {
   "metadata": {
    "ExecuteTime": {
     "end_time": "2024-10-30T22:39:12.673619Z",
     "start_time": "2024-10-30T22:39:12.668977Z"
    }
   },
   "cell_type": "code",
   "source": [
    "def train_one_epoch() -> None:\n",
    "    running_loss = 0.0\n",
    "    \n",
    "    model.train()\n",
    "    for iteration, data in enumerate(train_load):\n",
    "        # Get data and move to the correct device\n",
    "        images, labels = data\n",
    "        images = images.to(device) \n",
    "        labels = labels.to(device)\n",
    "        \n",
    "        # Zero the parameter gradients\n",
    "        optimizer.zero_grad()\n",
    "        \n",
    "        # Forward pass\n",
    "        outputs = model(images)\n",
    "        loss = loss_fn(outputs, labels)\n",
    "        \n",
    "        # Backward pass and optimization\n",
    "        loss.backward()\n",
    "        optimizer.step()\n",
    "        \n",
    "        running_loss += loss.item()\n",
    "        if iteration % 500 == 0:\n",
    "            print(f\"Iteration: {iteration}, Loss: {loss.item()}\")\n",
    "    \n",
    "    train_loss.append(running_loss / len(train_load))\n",
    "    \n",
    "def test_one_epoch() -> None:\n",
    "    labeled_correctly = 0\n",
    "    running_loss = 0.0\n",
    "    \n",
    "    model.eval()\n",
    "    with torch.no_grad():  # Disable gradient calculation for evaluation\n",
    "        for images, labels in test_load:\n",
    "            # Move data to the same device as the model\n",
    "            images = images.to(device)\n",
    "            labels = labels.to(device)\n",
    "            \n",
    "            # Forward pass\n",
    "            outputs = model(images)\n",
    "            loss = loss_fn(outputs, labels)\n",
    "            running_loss += loss.item()\n",
    "            if outputs.argmax() == labels.argmax():\n",
    "                labeled_correctly += 1\n",
    "    \n",
    "    running_loss /= len(test_load)\n",
    "    print(\"--------------------\")\n",
    "    print(f\"Test Loss: {running_loss}\\n\")\n",
    "    print(f\"Accuracy: {labeled_correctly/len(test_load)*100:.2f}%\")\n",
    "    \n",
    "    \n",
    "    test_loss.append(running_loss)\n"
   ],
   "id": "d4d7ed671d1b4c53",
   "execution_count": 54,
   "outputs": []
  },
  {
   "metadata": {
    "ExecuteTime": {
     "end_time": "2024-10-30T22:53:28.721041Z",
     "start_time": "2024-10-30T22:39:15.760078Z"
    }
   },
   "cell_type": "code",
   "source": [
    "# Define Training loop\n",
    "optimizer = torch.optim.SGD(model.parameters(), lr=0.01, momentum=0.9)\n",
    "loss_fn = torch.nn.CrossEntropyLoss()\n",
    "train_loss = []\n",
    "test_loss = []\n",
    "epochs = 5\n",
    "\n",
    "for epoch in range(epochs):\n",
    "    train_one_epoch()\n",
    "    test_one_epoch()"
   ],
   "id": "75146a0c11a5ecb9",
   "execution_count": 55,
   "outputs": []
  },
  {
   "metadata": {},
   "cell_type": "code",
   "execution_count": null,
   "source": "torch.save(model.state_dict(), \"./model.pt\")",
   "id": "6dc0fc071fa91b43",
   "outputs": []
  }
 ],
 "metadata": {
  "kernelspec": {
   "display_name": "Python 3",
   "language": "python",
   "name": "python3"
  },
  "language_info": {
   "codemirror_mode": {
    "name": "ipython",
    "version": 2
   },
   "file_extension": ".py",
   "mimetype": "text/x-python",
   "name": "python",
   "nbconvert_exporter": "python",
   "pygments_lexer": "ipython2",
   "version": "2.7.6"
  }
 },
 "nbformat": 4,
 "nbformat_minor": 5
}
